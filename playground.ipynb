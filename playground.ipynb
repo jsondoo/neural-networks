{
 "cells": [
  {
   "cell_type": "markdown",
   "metadata": {},
   "source": [
    "# Neural Networks"
   ]
  },
  {
   "cell_type": "markdown",
   "metadata": {},
   "source": [
    "### Sigmoid Function\n",
    "\n",
    "Most commonly used activation function is the sigmoid function. By introducing a non-linear function, this allows the neural network to learn things outside of just linear combination of inputs (by mapping linear inputs to non-linear outputs). Sigmoid function also has desirable properties such as being continuous and differentiable, bounded between 0 and 1, and being easy to compute the derivative. "
   ]
  },
  {
   "cell_type": "code",
   "execution_count": 1,
   "metadata": {
    "collapsed": false
   },
   "outputs": [
    {
     "data": {
      "image/png": "[encoded data removed]",
      "text/plain": [
       "<matplotlib.figure.Figure at 0x10fea7a58>"
      ]
     },
     "metadata": {},
     "output_type": "display_data"
    }
   ],
   "source": [
    "import numpy as np\n",
    "import matplotlib.pyplot as plt\n",
    "\n",
    "# Visualization\n",
    "x = np.linspace(-10,10,1000)\n",
    "y = 1/(1+np.exp(-x))\n",
    "plt.plot(x,y)\n",
    "plt.show()\n",
    "\n",
    "# Functions\n",
    "def sig(z):\n",
    "    return 1/(1+np.exp(-z))\n",
    "\n",
    "def sigprime(z):\n",
    "    return z*(1-z)\n",
    "        "
   ]
  },
  {
   "cell_type": "markdown",
   "metadata": {},
   "source": [
    "### Training Data\n",
    "\n",
    "Here is the training dataset. It is in the form of a matrix so that each row represents an input/output. This is called batch training because we pass in many examples at a time. Apparently, online training is better (passing in one example at a time) than batch training when using back-propogation but I am not sure why."
   ]
  },
  {
   "cell_type": "code",
   "execution_count": 2,
   "metadata": {
    "collapsed": false
   },
   "outputs": [],
   "source": [
    "t_x = np.array([\n",
    "[0,0,1],\n",
    "[0,1,1],\n",
    "[1,0,1],\n",
    "[1,1,1]])\n",
    "\n",
    "t_y = np.array([[\n",
    "0,\n",
    "0,\n",
    "1,\n",
    "1]]).T"
   ]
  },
  {
   "cell_type": "markdown",
   "metadata": {},
   "source": [
    "The algorithm for training neural networks is generally straightforward. A two layer neural network just consists of the input layer and the output layer (with synapses in-between). \n",
    "\n",
    "1) You initialize the weights with random values.\n",
    "\n",
    "2) You feed the neural network some information and let it try to 'predict' the output.\n",
    "\n",
    "3) Then you compute how off the predicted output was from the expected output and adjust the weights.\n",
    "\n",
    "4) Repeat steps 2) and 3) until the neural network is 'smart' enough"
   ]
  },
  {
   "cell_type": "markdown",
   "metadata": {},
   "source": [
    "###  Two Layer Neural Network"
   ]
  },
  {
   "cell_type": "code",
   "execution_count": 5,
   "metadata": {
    "collapsed": false,
    "scrolled": true
   },
   "outputs": [
    {
     "name": "stdout",
     "output_type": "stream",
     "text": [
      "Output after training: \n",
      "[[ 0.0042779 ]\n",
      " [ 0.00348742]\n",
      " [ 0.99715469]\n",
      " [ 0.99650925]]\n"
     ]
    }
   ],
   "source": [
    "np.random.seed(1)\n",
    "# initialize weights randomly with mean 0\n",
    "w0 = 2*np.random.random((3,1)) - 1 \n",
    "\n",
    "for i in range(50000):\n",
    "    # appply sigmoid function to weighted sum of inputs\n",
    "    layer0 = t_x\n",
    "    layer1 = sig(np.dot(layer0, w0))\n",
    "    \n",
    "    delta = (t_y - layer1) * sigprime(layer1)\n",
    "    w0 += np.dot(layer0.T, delta)\n",
    "    \n",
    "print(\"Output after training: \")\n",
    "print(layer1)"
   ]
  },
  {
   "cell_type": "markdown",
   "metadata": {},
   "source": [
    "### Three Layer Neural Network"
   ]
  },
  {
   "cell_type": "code",
   "execution_count": 6,
   "metadata": {
    "collapsed": false
   },
   "outputs": [
    {
     "name": "stdout",
     "output_type": "stream",
     "text": [
      "Output after training: \n",
      "[[ 0.00216948]\n",
      " [ 0.00179787]\n",
      " [ 0.99784669]\n",
      " [ 0.99760503]]\n"
     ]
    }
   ],
   "source": [
    "np.random.seed(1)\n",
    "# initialize weights randomly with mean 0\n",
    "# dim(w0) is 3 by 4\n",
    "# dim(w1) is 4 by 1\n",
    "w0 = 2*np.random.random((3,4)) - 1 \n",
    "w1 = 2*np.random.random((4,1)) - 1\n",
    "\n",
    "for i in range(50000):\n",
    "    # appply sigmoid function to weighted sum of inputs\n",
    "    layer0 = t_x\n",
    "    layer1 = sig(np.dot(layer0, w0))\n",
    "    layer2 = sig(np.dot(layer1, w1))\n",
    "    \n",
    "    # in what direction were we off\n",
    "    delta2 = (t_y - layer2) * sigprime(layer2)\n",
    "    \n",
    "    # backpropogate\n",
    "    # note that we use delta2 and multiply that by w1\n",
    "    delta1 = np.dot(delta2, w1.T) * sigprime(layer1)\n",
    "    \n",
    "    w1 += np.dot(layer1.T, delta2)\n",
    "    w0 += np.dot(layer0.T, delta1)\n",
    "    \n",
    "print(\"Output after training: \")\n",
    "print(layer2)"
   ]
  }
 ],
 "metadata": {
  "kernelspec": {
   "display_name": "Python 3",
   "language": "python",
   "name": "python3"
  },
  "language_info": {
   "codemirror_mode": {
    "name": "ipython",
    "version": 3
   },
   "file_extension": ".py",
   "mimetype": "text/x-python",
   "name": "python",
   "nbconvert_exporter": "python",
   "pygments_lexer": "ipython3",
   "version": "3.6.0"
  }
 },
 "nbformat": 4,
 "nbformat_minor": 2
}
