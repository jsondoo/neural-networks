{
 "cells": [
  {
   "cell_type": "code",
   "execution_count": 1,
   "metadata": {},
   "outputs": [],
   "source": [
    "import numpy as np\n",
    "import os\n",
    "import cv2\n",
    "\n",
    "DATADIR = \"D:/Datasets/dogsandcats\"\n",
    "CATEGORIES = [\"Dog\", \"Cat\"]\n",
    "IMG_SIZE = 60\n",
    "\n",
    "training_data = []\n",
    "\n",
    "def create_training_data():\n",
    "    for category in CATEGORIES:\n",
    "        path = os.path.join(DATADIR, category)\n",
    "        class_num = CATEGORIES.index(category)\n",
    "        for img in os.listdir(path):\n",
    "            try:\n",
    "                img_array = cv2.imread(os.path.join(path,img), cv2.IMREAD_GRAYSCALE)\n",
    "                new_array = cv2.resize(img_array, (IMG_SIZE, IMG_SIZE))\n",
    "                training_data.append([new_array, class_num])\n",
    "            except Exception as e:\n",
    "                pass # broken image lol\n",
    "\n",
    "create_training_data()"
   ]
  },
  {
   "cell_type": "code",
   "execution_count": 2,
   "metadata": {},
   "outputs": [
    {
     "name": "stdout",
     "output_type": "stream",
     "text": [
      "24946\n"
     ]
    }
   ],
   "source": [
    "print(len(training_data))"
   ]
  },
  {
   "cell_type": "code",
   "execution_count": 5,
   "metadata": {},
   "outputs": [
    {
     "data": {
      "image/png": "[encoded data removed]",
      "text/plain": [
       "<Figure size 432x288 with 1 Axes>"
      ]
     },
     "metadata": {},
     "output_type": "display_data"
    }
   ],
   "source": [
    "import random\n",
    "import numpy as np\n",
    "\n",
    "random.shuffle(training_data)\n",
    "\n",
    "import matplotlib.pyplot as plt\n",
    "plt.imshow(training_data[0][0], cmap=\"gray\")\n",
    "plt.show()\n",
    "\n",
    "X = []\n",
    "y = []\n",
    "\n",
    "\n",
    "\n",
    "for example, label in training_data:\n",
    "    X.append(example)\n",
    "    y.append(label)\n",
    "\n",
    "X = np.array(X).reshape(-1, IMG_SIZE, IMG_SIZE, 1)\n",
    "X = X / 255.0 # scale to [0.1]\n",
    "\n",
    "# save our data\n",
    "np.save(\"X.npy\", X)\n",
    "np.save(\"y.npy\", y)"
   ]
  },
  {
   "cell_type": "code",
   "execution_count": 2,
   "metadata": {},
   "outputs": [
    {
     "name": "stdout",
     "output_type": "stream",
     "text": [
      "Train on 19956 samples, validate on 4990 samples\n",
      "Epoch 1/5\n",
      "19956/19956 [==============================] - 10s 522us/step - loss: 0.6214 - acc: 0.6466 - val_loss: 0.5556 - val_acc: 0.7277\n",
      "Epoch 2/5\n",
      "19956/19956 [==============================] - 8s 376us/step - loss: 0.5263 - acc: 0.7436 - val_loss: 0.4944 - val_acc: 0.7713\n",
      "Epoch 3/5\n",
      "19956/19956 [==============================] - 7s 370us/step - loss: 0.4924 - acc: 0.7625 - val_loss: 0.4741 - val_acc: 0.7788\n",
      "Epoch 4/5\n",
      "19956/19956 [==============================] - 8s 377us/step - loss: 0.4645 - acc: 0.7821 - val_loss: 0.4714 - val_acc: 0.7846\n",
      "Epoch 5/5\n",
      "19956/19956 [==============================] - 7s 359us/step - loss: 0.4425 - acc: 0.7927 - val_loss: 0.4456 - val_acc: 0.7974\n"
     ]
    }
   ],
   "source": [
    "# TRAINING THE MODEL\n",
    "\n",
    "import tensorflow as tf\n",
    "from tensorflow.keras.models import Sequential\n",
    "from tensorflow.keras.layers import Dense, Dropout, Activation, Flatten, Conv2D, MaxPooling2D\n",
    "from tensorflow.keras.callbacks import TensorBoard\n",
    "import time\n",
    "import numpy as np\n",
    "\n",
    "# Name for model - timestamped\n",
    "NAME = \"dog-cat-binary-grayscale-{}\".format(int(time.time()))\n",
    "tensorboard = TensorBoard(log_dir='logs/{}'.format(NAME))\n",
    "\n",
    "X = np.load(\"X.npy\")\n",
    "y = np.load(\"y.npy\")\n",
    "\n",
    "model = Sequential()\n",
    "\n",
    "# Conv2D(filters, filter_size, input_shape)\n",
    "# must specify input shape if it is the first layer of the model\n",
    "model.add(Conv2D(64, (3,3), input_shape=X.shape[1:]))\n",
    "model.add(Activation(\"relu\"))\n",
    "model.add(MaxPooling2D(pool_size=(2,2)))\n",
    "\n",
    "model.add(Conv2D(64, (3,3)))\n",
    "model.add(Activation(\"relu\"))\n",
    "model.add(MaxPooling2D(pool_size=(2,2)))\n",
    "\n",
    "model.add(Flatten())\n",
    "\n",
    "model.add(Dense(1))\n",
    "model.add(Activation(\"sigmoid\"))\n",
    "\n",
    "model.compile(loss=\"binary_crossentropy\",\n",
    "             optimizer=\"adam\",\n",
    "             metrics=['accuracy'])\n",
    "\n",
    "model.fit(X, y, batch_size=32, epochs=5, validation_split=0.2, callbacks=[tensorboard])\n",
    "\n",
    "# to see the logs in tensorboard\n",
    "# cd into the directory with the log folder\n",
    "# type `tensorboard --logdir=logs/` in cmd.exe\n",
    "# go to provided link\n",
    "\n",
    "model.save('64x2-CNN.model')"
   ]
  },
  {
   "cell_type": "code",
   "execution_count": null,
   "metadata": {},
   "outputs": [],
   "source": [
    "# PREDICTIONS WITH THE MODEL\n",
    "\n",
    "import cv2\n",
    "import tensorflow as tf\n",
    "\n",
    "CATEGORIES = [\"Dog\", \"Cat\"]\n"
   ]
  }
 ],
 "metadata": {
  "kernelspec": {
   "display_name": "Python 3",
   "language": "python",
   "name": "python3"
  },
  "language_info": {
   "codemirror_mode": {
    "name": "ipython",
    "version": 3
   },
   "file_extension": ".py",
   "mimetype": "text/x-python",
   "name": "python",
   "nbconvert_exporter": "python",
   "pygments_lexer": "ipython3",
   "version": "3.6.5"
  }
 },
 "nbformat": 4,
 "nbformat_minor": 2
}
